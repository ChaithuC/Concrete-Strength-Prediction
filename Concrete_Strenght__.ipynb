{
  "cells": [
    {
      "cell_type": "code",
      "source": [
        " # Mounting Google Drive\n",
        "\n",
        "# from google.colab import drive\n",
        "# drive.mount('/content/drive')"
      ],
      "metadata": {
        "id": "JdQ8qLyIm2vc"
      },
      "id": "JdQ8qLyIm2vc",
      "execution_count": null,
      "outputs": []
    },
    {
      "cell_type": "markdown",
      "id": "d1a35fae-1f26-4c43-88e0-14be0eba0ac7",
      "metadata": {
        "id": "d1a35fae-1f26-4c43-88e0-14be0eba0ac7"
      },
      "source": [
        "# Concrete compressive strength - Project\n"
      ]
    },
    {
      "cell_type": "markdown",
      "id": "576edb59-3f81-480f-9f6d-44b921045e3e",
      "metadata": {
        "id": "576edb59-3f81-480f-9f6d-44b921045e3e"
      },
      "source": [
        "### **Instaling Libraries**"
      ]
    },
    {
      "cell_type": "code",
      "execution_count": null,
      "id": "743676f3-e4ca-406d-8c09-5461a21fb9ba",
      "metadata": {
        "id": "743676f3-e4ca-406d-8c09-5461a21fb9ba"
      },
      "outputs": [],
      "source": [
        "#pip install xlrd\n",
        "#pip install pandas as pd\n",
        "#pip install numpy as np\n",
        "#pip install seaborn as sns"
      ]
    },
    {
      "cell_type": "markdown",
      "id": "b346b9db-3c87-4c8f-88f1-1332009cfd76",
      "metadata": {
        "id": "b346b9db-3c87-4c8f-88f1-1332009cfd76"
      },
      "source": [
        "### **Importing Libraries**"
      ]
    },
    {
      "cell_type": "code",
      "execution_count": null,
      "id": "0f14b7f6-c0c1-40f8-9881-63f2f1dd862e",
      "metadata": {
        "id": "0f14b7f6-c0c1-40f8-9881-63f2f1dd862e"
      },
      "outputs": [],
      "source": [
        "import numpy as np\n",
        "import pandas as pd\n",
        "import matplotlib.pyplot as plt\n",
        "import seaborn as sns\n",
        "import itertools\n",
        "import xlrd\n",
        "from scipy import stats\n",
        "%matplotlib inline"
      ]
    },
    {
      "cell_type": "code",
      "source": [
        "from google.colab import drive\n",
        "drive.mount('/content/drive')"
      ],
      "metadata": {
        "id": "3iCWcHjBCfRK"
      },
      "id": "3iCWcHjBCfRK",
      "execution_count": null,
      "outputs": []
    },
    {
      "cell_type": "markdown",
      "id": "063633e8",
      "metadata": {
        "id": "063633e8"
      },
      "source": [
        "### Ignoring Future Warnings"
      ]
    },
    {
      "cell_type": "code",
      "execution_count": null,
      "id": "27820836",
      "metadata": {
        "id": "27820836"
      },
      "outputs": [],
      "source": [
        "import warnings\n",
        "warnings.simplefilter(action='ignore', category=FutureWarning)"
      ]
    },
    {
      "cell_type": "markdown",
      "id": "a3bb50ff-a9c1-47d4-b1d6-be6129ada024",
      "metadata": {
        "id": "a3bb50ff-a9c1-47d4-b1d6-be6129ada024"
      },
      "source": [
        "### Importing/Loading the data file "
      ]
    },
    {
      "cell_type": "code",
      "execution_count": null,
      "id": "5453220e-7c98-458d-83fc-5991d8518636",
      "metadata": {
        "id": "5453220e-7c98-458d-83fc-5991d8518636"
      },
      "outputs": [],
      "source": [
        "df = pd.read_csv(\"Concrete_Data.csv\")"
      ]
    },
    {
      "cell_type": "markdown",
      "id": "544558b4-357d-46c7-ab57-0760906d6e0a",
      "metadata": {
        "id": "544558b4-357d-46c7-ab57-0760906d6e0a"
      },
      "source": [
        "### **Getting the head of Data Frame**"
      ]
    },
    {
      "cell_type": "code",
      "execution_count": null,
      "id": "583d9174-8a15-4998-ae07-afe1b15e6bee",
      "metadata": {
        "id": "583d9174-8a15-4998-ae07-afe1b15e6bee"
      },
      "outputs": [],
      "source": [
        "df.head()"
      ]
    },
    {
      "cell_type": "markdown",
      "id": "42750858-903f-4382-b134-7d13499238bd",
      "metadata": {
        "id": "42750858-903f-4382-b134-7d13499238bd"
      },
      "source": [
        "### **Printing the shape**"
      ]
    },
    {
      "cell_type": "code",
      "execution_count": null,
      "id": "cfb3fc6a-2a68-4015-88fe-8642d4c37f09",
      "metadata": {
        "id": "cfb3fc6a-2a68-4015-88fe-8642d4c37f09"
      },
      "outputs": [],
      "source": [
        "df.shape"
      ]
    },
    {
      "cell_type": "markdown",
      "id": "be5ddc41-a2d5-4539-aa3e-ab392ebe0afc",
      "metadata": {
        "id": "be5ddc41-a2d5-4539-aa3e-ab392ebe0afc"
      },
      "source": [
        "### **Featuring variables and their data-types**"
      ]
    },
    {
      "cell_type": "code",
      "execution_count": null,
      "id": "7a3d0be2-099c-4c56-afbb-6b3fa478b36b",
      "metadata": {
        "id": "7a3d0be2-099c-4c56-afbb-6b3fa478b36b"
      },
      "outputs": [],
      "source": [
        "df.info()"
      ]
    },
    {
      "cell_type": "markdown",
      "source": [
        "### Checking for Duplicates"
      ],
      "metadata": {
        "id": "_hAfTT-ckL_C"
      },
      "id": "_hAfTT-ckL_C"
    },
    {
      "cell_type": "code",
      "source": [
        "#duplicates\n",
        "duplicates = df.duplicated()\n",
        "if duplicates.sum() == 0:\n",
        "    print('There are no duplicated entries.')\n",
        "else:\n",
        "    print(f'There are {duplicates.sum()} duplicates.')"
      ],
      "metadata": {
        "id": "qjIujqG_kP3d"
      },
      "id": "qjIujqG_kP3d",
      "execution_count": null,
      "outputs": []
    },
    {
      "cell_type": "code",
      "source": [
        "# Removing duplicates \n",
        "df = df[~duplicates]"
      ],
      "metadata": {
        "id": "gDpbisgnkVV7"
      },
      "id": "gDpbisgnkVV7",
      "execution_count": null,
      "outputs": []
    },
    {
      "cell_type": "code",
      "source": [
        "# Printing Data types \n",
        "\n",
        "df.dtypes"
      ],
      "metadata": {
        "id": "7H3j2OGDQ7HN"
      },
      "id": "7H3j2OGDQ7HN",
      "execution_count": null,
      "outputs": []
    },
    {
      "cell_type": "markdown",
      "id": "422ec079-492b-45fc-b43a-1139fd782f49",
      "metadata": {
        "id": "422ec079-492b-45fc-b43a-1139fd782f49"
      },
      "source": [
        "### **Listing out response variable and its data type**"
      ]
    },
    {
      "cell_type": "markdown",
      "source": [
        "######  *8 independent variables(Cement, Slag, Ash, Water ,SuperPlastic, Coarse Aggregate, Fine Aggregate, Age)*\n",
        "\n",
        "##### *1 dependent variable(strength)*"
      ],
      "metadata": {
        "id": "U1ohNlSNSbsx"
      },
      "id": "U1ohNlSNSbsx"
    },
    {
      "cell_type": "markdown",
      "id": "23b86782",
      "metadata": {
        "id": "23b86782"
      },
      "source": [
        "### **Renaming variable names for better understanding**"
      ]
    },
    {
      "cell_type": "code",
      "execution_count": null,
      "id": "aac18b7f",
      "metadata": {
        "id": "aac18b7f"
      },
      "outputs": [],
      "source": [
        "df = df.rename(columns={'Cement (component 1)(kg in a m^3 mixture)':\"Cement\",\n",
        "                       'Blast Furnace Slag (component 2)(kg in a m^3 mixture)':\"Slag\",\n",
        "                       'Fly Ash (component 3)(kg in a m^3 mixture)':\"Ash\",\n",
        "                       'Water  (component 4)(kg in a m^3 mixture)':\"Water\",\n",
        "                       'Superplasticizer (component 5)(kg in a m^3 mixture)':\"SuperPlastic\",\n",
        "                       'Coarse Aggregate  (component 6)(kg in a m^3 mixture)':\"Coarse Aggregate\",\n",
        "                       'Fine Aggregate (component 7)(kg in a m^3 mixture)':\"Fine Aggregate\",\n",
        "                       'Age (day)':\"Age\",\n",
        "                       'Concrete compressive strength(MPa, megapascals) ':\"strength\"})"
      ]
    },
    {
      "cell_type": "markdown",
      "id": "8551b888",
      "metadata": {
        "id": "8551b888"
      },
      "source": [
        "### **Checking for the Null Values** :"
      ]
    },
    {
      "cell_type": "code",
      "execution_count": null,
      "id": "6f55e2fd",
      "metadata": {
        "id": "6f55e2fd"
      },
      "outputs": [],
      "source": [
        "# Method 1\n",
        "\n",
        "df.isnull().sum() "
      ]
    },
    {
      "cell_type": "code",
      "execution_count": null,
      "id": "db2227a0",
      "metadata": {
        "id": "db2227a0"
      },
      "outputs": [],
      "source": [
        "# Method 2\n",
        "\n",
        "df.isnull().any()\n"
      ]
    },
    {
      "cell_type": "code",
      "execution_count": null,
      "id": "9f22348a",
      "metadata": {
        "id": "9f22348a"
      },
      "outputs": [],
      "source": [
        "# checking\n",
        "df.head()"
      ]
    },
    {
      "cell_type": "code",
      "source": [
        "# Printing Data types \n",
        "\n",
        "df.dtypes"
      ],
      "metadata": {
        "id": "mAjtMEjHSrBr"
      },
      "id": "mAjtMEjHSrBr",
      "execution_count": null,
      "outputs": []
    },
    {
      "cell_type": "markdown",
      "id": "c260aad3",
      "metadata": {
        "id": "c260aad3"
      },
      "source": [
        "#### **Getting the Statistical View of Data**"
      ]
    },
    {
      "cell_type": "code",
      "execution_count": null,
      "id": "c2f00d4d",
      "metadata": {
        "id": "c2f00d4d"
      },
      "outputs": [],
      "source": [
        "df.describe().T"
      ]
    },
    {
      "cell_type": "markdown",
      "id": "a085681d",
      "metadata": {
        "id": "a085681d"
      },
      "source": [
        "### ***Checking for Outliers***"
      ]
    },
    {
      "cell_type": "markdown",
      "source": [
        "Checking for Cement"
      ],
      "metadata": {
        "id": "_8Q_XP7qUZs2"
      },
      "id": "_8Q_XP7qUZs2"
    },
    {
      "cell_type": "code",
      "execution_count": null,
      "id": "9f4e33ef",
      "metadata": {
        "id": "9f4e33ef"
      },
      "outputs": [],
      "source": [
        "# Getting Inter Quartile Range\n",
        "Q1 = df['Cement'].quantile(q=0.25)\n",
        "Q3 = df['Cement'].quantile(q=0.75)\n",
        "\n",
        "print('1st Quartile (Q1) is: ', Q1 )\n",
        "print('3rd Quartile (Q3) is: ', Q3)\n",
        "\n",
        "# Printing Inter Quartile Range\n",
        "print(\"InterQuartile range (IQR) is: \", stats.iqr(df['Cement']))"
      ]
    },
    {
      "cell_type": "code",
      "execution_count": null,
      "id": "6157c7c7",
      "metadata": {
        "id": "6157c7c7"
      },
      "outputs": [],
      "source": [
        "# Checking For Lower and Upeer Quartiles\n",
        "Lower_Outliers = Q1 - 1.5 * (Q3 - Q1)\n",
        "Upper_outliers = Q3 + 1.5 * (Q3 - Q1)\n",
        "\n",
        "print('Lower Outliers limit in cement: ', Lower_Outliers)\n",
        "print(\"Upper Outliers Limit in cement: \", Upper_outliers)"
      ]
    },
    {
      "cell_type": "code",
      "source": [
        "# Checking for if any Number of outliers are present ..\n",
        "\n",
        "cuo = df[df['Cement']>Upper_outliers]['Cement'].count()\n",
        "clo =  df[df['Cement']<Lower_Outliers]['Cement'].count()\n",
        "\n",
        "print(\"The Outliers present in Lower_Outliers and Upper_outliers are: {} and {}\".format(clo, cuo))"
      ],
      "metadata": {
        "id": "qPFC3phIVB5N"
      },
      "id": "qPFC3phIVB5N",
      "execution_count": null,
      "outputs": []
    },
    {
      "cell_type": "markdown",
      "id": "d6921422",
      "metadata": {
        "id": "d6921422"
      },
      "source": [
        "visualising Box Plot and Dist plot for cement"
      ]
    },
    {
      "cell_type": "code",
      "execution_count": null,
      "id": "0c883baf",
      "metadata": {
        "id": "0c883baf"
      },
      "outputs": [],
      "source": [
        "# Box Plotting\n",
        "\n",
        "sns.boxplot(x = 'Cement', data =df )"
      ]
    },
    {
      "cell_type": "code",
      "execution_count": null,
      "id": "ca9a888f",
      "metadata": {
        "id": "ca9a888f"
      },
      "outputs": [],
      "source": [
        "# Dist Plotting\n",
        "\n",
        "sns.distplot(df['Cement'])"
      ]
    },
    {
      "cell_type": "markdown",
      "source": [
        "Checking for Slag"
      ],
      "metadata": {
        "id": "g87UpZbUXQa7"
      },
      "id": "g87UpZbUXQa7"
    },
    {
      "cell_type": "code",
      "source": [
        "# Getting Inter Quartile Range\n",
        "S_Q1 = df['Slag'].quantile(q=0.25)\n",
        "S_Q3 = df['Slag'].quantile(q=0.75)\n",
        "\n",
        "print('1st Quartile (S_Q1) is: ', S_Q1 )\n",
        "print('3rd Quartile (S_Q3) is: ', S_Q3)\n",
        "\n",
        "# Printing Inter Quartile Range\n",
        "print(\"InterQuartile range (IQR) is: \", stats.iqr(df['Slag']))"
      ],
      "metadata": {
        "id": "n50qhTtXXIbf"
      },
      "id": "n50qhTtXXIbf",
      "execution_count": null,
      "outputs": []
    },
    {
      "cell_type": "code",
      "source": [
        "# Checking For Lower and Upeer Quartiles\n",
        "S_Lower_Outliers = S_Q1 - 1.5 * (S_Q3 - S_Q1)\n",
        "S_Upper_outliers = S_Q3 + 1.5 * (S_Q3 - S_Q1)\n",
        "\n",
        "print('Lower Outliers limit in Slag: ', S_Lower_Outliers)\n",
        "print(\"Upper Outliers Limit in Slag: \", S_Upper_outliers)"
      ],
      "metadata": {
        "id": "yQxjv0JOXId8"
      },
      "id": "yQxjv0JOXId8",
      "execution_count": null,
      "outputs": []
    },
    {
      "cell_type": "code",
      "source": [
        "# Checking for if any Number of outliers are present ..\n",
        "\n",
        "suo = df[df['Slag']>S_Upper_outliers]['Slag'].count()\n",
        "slo =  df[df['Slag']<S_Lower_Outliers]['Slag'].count()\n",
        "\n",
        "print(\"The Outliers present in S_Lower_Outliers and S_Upper_outliers are: {} and {}\".format(slo, suo))"
      ],
      "metadata": {
        "id": "rNJ-mgNpXIgb"
      },
      "id": "rNJ-mgNpXIgb",
      "execution_count": null,
      "outputs": []
    },
    {
      "cell_type": "markdown",
      "source": [
        "Checking for Ash"
      ],
      "metadata": {
        "id": "Vo5kT5ruY-bS"
      },
      "id": "Vo5kT5ruY-bS"
    },
    {
      "cell_type": "code",
      "source": [
        "# Getting Inter Quartile Range\n",
        "A_Q1 = df['Ash'].quantile(q=0.25)\n",
        "A_Q3 = df['Ash'].quantile(q=0.75)\n",
        "\n",
        "print('1st Quartile (A_Q1) is: ', A_Q1 )\n",
        "print('3rd Quartile (A_Q3) is: ', A_Q3)\n",
        "\n",
        "# Printing Inter Quartile Range\n",
        "print(\"InterQuartile range (IQR) is: \", stats.iqr(df['Ash']))"
      ],
      "metadata": {
        "id": "03QELtodXIlb"
      },
      "id": "03QELtodXIlb",
      "execution_count": null,
      "outputs": []
    },
    {
      "cell_type": "code",
      "source": [
        "# Checking For Lower and Upeer Quartiles\n",
        "A_Lower_Outliers = A_Q1 - 1.5 * (A_Q3 - A_Q1)\n",
        "A_Upper_outliers = A_Q3 + 1.5 * (A_Q3 - A_Q1)\n",
        "\n",
        "print('Lower Outliers limit in Ash: ', A_Lower_Outliers)\n",
        "print(\"Upper Outliers Limit in Ash: \", A_Upper_outliers)"
      ],
      "metadata": {
        "id": "XNF8thCDXInj"
      },
      "id": "XNF8thCDXInj",
      "execution_count": null,
      "outputs": []
    },
    {
      "cell_type": "code",
      "source": [
        "# Checking for if any Number of outliers are present ..\n",
        "\n",
        "auo = df[df['Ash']>A_Upper_outliers]['Ash'].count()\n",
        "alo =  df[df['Ash']<A_Lower_Outliers]['Ash'].count()\n",
        "\n",
        "print(\"The Outliers present in A_Lower_Outliers and A_Upper_outliers are: {} and {}\".format(alo, auo))"
      ],
      "metadata": {
        "id": "wE6ClzVKXIsh"
      },
      "id": "wE6ClzVKXIsh",
      "execution_count": null,
      "outputs": []
    },
    {
      "cell_type": "markdown",
      "source": [
        "Checking for Water"
      ],
      "metadata": {
        "id": "sv3A5pzXcpFq"
      },
      "id": "sv3A5pzXcpFq"
    },
    {
      "cell_type": "code",
      "source": [
        "# Getting Inter Quartile Range\n",
        "W_Q1 = df['Water'].quantile(q=0.25)\n",
        "W_Q3 = df['Water'].quantile(q=0.75)\n",
        "\n",
        "print('1st Quartile (W_Q1) is: ', W_Q1 )\n",
        "print('3rd Quartile (W_Q3) is: ', W_Q3)\n",
        "\n",
        "# Printing Inter Quartile Range\n",
        "print(\"InterQuartile range (IQR) is: \", stats.iqr(df['Water']))"
      ],
      "metadata": {
        "id": "CqIDc35bcrtH"
      },
      "id": "CqIDc35bcrtH",
      "execution_count": null,
      "outputs": []
    },
    {
      "cell_type": "code",
      "source": [
        "# Checking For Lower and Upeer Quartiles\n",
        "W_Lower_Outliers = W_Q1 - 1.5 * (W_Q3 - W_Q1)\n",
        "W_Upper_outliers = W_Q3 + 1.5 * (W_Q3 - W_Q1)\n",
        "\n",
        "print('Lower Outliers limit in Water: ', W_Lower_Outliers)\n",
        "print(\"Upper Outliers Limit in Water: \", W_Upper_outliers)"
      ],
      "metadata": {
        "id": "3oPYiLIocr3u"
      },
      "id": "3oPYiLIocr3u",
      "execution_count": null,
      "outputs": []
    },
    {
      "cell_type": "code",
      "source": [
        "# Checking for if any Number of outliers are present ..\n",
        "\n",
        "wuo = df[df['Water']>W_Upper_outliers]['Water'].count()\n",
        "wlo =  df[df['Water']<W_Lower_Outliers]['Water'].count()\n",
        "\n",
        "print(\"The Outliers present in W_Lower_Outliers and W_Upper_outliers are: {} and {}\".format(wlo, wuo))"
      ],
      "metadata": {
        "id": "5T1qVNnMcr79"
      },
      "id": "5T1qVNnMcr79",
      "execution_count": null,
      "outputs": []
    },
    {
      "cell_type": "markdown",
      "source": [
        "Checking for SuperPlastic"
      ],
      "metadata": {
        "id": "xBmngWNhfGaf"
      },
      "id": "xBmngWNhfGaf"
    },
    {
      "cell_type": "code",
      "source": [
        "# Getting Inter Quartile Range\n",
        "sp_Q1 = df['SuperPlastic'].quantile(q=0.25)\n",
        "sp_Q3 = df['SuperPlastic'].quantile(q=0.75)\n",
        "\n",
        "print('1st Quartile (sp_Q1) is: ', sp_Q1 )\n",
        "print('3rd Quartile (sp_Q3) is: ', sp_Q3)\n",
        "\n",
        "# Printing Inter Quartile Range\n",
        "print(\"InterQuartile range (IQR) is: \", stats.iqr(df['SuperPlastic']))"
      ],
      "metadata": {
        "id": "dUbYDZpsfO2Q"
      },
      "id": "dUbYDZpsfO2Q",
      "execution_count": null,
      "outputs": []
    },
    {
      "cell_type": "code",
      "source": [
        "# Checking For Lower and Upeer Quartiles\n",
        "sp_Lower_Outliers = sp_Q1 - 1.5 * (sp_Q3 - sp_Q1)\n",
        "sp_Upper_outliers = sp_Q3 + 1.5 * (sp_Q3 - sp_Q1)\n",
        "\n",
        "print('Lower Outliers limit in SuperPlastic: ', sp_Lower_Outliers)\n",
        "print(\"Upper Outliers Limit in SuperPlasticer: \", sp_Upper_outliers)"
      ],
      "metadata": {
        "id": "z-agxu1afO4r"
      },
      "id": "z-agxu1afO4r",
      "execution_count": null,
      "outputs": []
    },
    {
      "cell_type": "code",
      "source": [
        "# Checking for if any Number of outliers are present ..\n",
        "\n",
        "spuo = df[df['SuperPlastic']>sp_Upper_outliers]['SuperPlastic'].count()\n",
        "splo =  df[df['SuperPlastic']<sp_Lower_Outliers]['SuperPlastic'].count()\n",
        "\n",
        "print(\"The Outliers present in sp_Lower_Outliers and sp_Upper_outliers are: {} and {}\".format(splo, spuo))"
      ],
      "metadata": {
        "id": "pwsEOsUlfO7F"
      },
      "id": "pwsEOsUlfO7F",
      "execution_count": null,
      "outputs": []
    },
    {
      "cell_type": "markdown",
      "source": [
        "Checking for Coarse Aggregate\t"
      ],
      "metadata": {
        "id": "aXwL4IbRgqHa"
      },
      "id": "aXwL4IbRgqHa"
    },
    {
      "cell_type": "code",
      "source": [
        "# Getting Inter Quartile Range\n",
        "ca_Q1 = df['Coarse Aggregate'].quantile(q=0.25)\n",
        "ca_Q3 = df['Coarse Aggregate'].quantile(q=0.75)\n",
        "\n",
        "print('1st Quartile (ca_Q1) is: ', ca_Q1 )\n",
        "print('3rd Quartile (ca_Q3) is: ', ca_Q3)\n",
        "\n",
        "# Printing Inter Quartile Range\n",
        "print(\"InterQuartile range (IQR) is: \", stats.iqr(df['Coarse Aggregate']))"
      ],
      "metadata": {
        "id": "mxs95pBxg0oT"
      },
      "id": "mxs95pBxg0oT",
      "execution_count": null,
      "outputs": []
    },
    {
      "cell_type": "code",
      "source": [
        "# Checking For Lower and Upeer Quartiles\n",
        "ca_Lower_Outliers = ca_Q1 - 1.5 * (ca_Q3 - ca_Q1)\n",
        "ca_Upper_outliers = ca_Q3 + 1.5 * (ca_Q3 - ca_Q1)\n",
        "\n",
        "print('Lower Outliers limit in Coarse Aggregate: ', ca_Lower_Outliers)\n",
        "print(\"Upper Outliers Limit in Coarse Aggregate: \", ca_Upper_outliers)"
      ],
      "metadata": {
        "id": "G9zIAM0Gg0qZ"
      },
      "id": "G9zIAM0Gg0qZ",
      "execution_count": null,
      "outputs": []
    },
    {
      "cell_type": "code",
      "source": [
        "# Checking for if any Number of outliers are present ..\n",
        "\n",
        "cauo = df[df['Coarse Aggregate']>ca_Upper_outliers]['Coarse Aggregate'].count()\n",
        "calo =  df[df['Coarse Aggregate']<ca_Lower_Outliers]['Coarse Aggregate'].count()\n",
        "\n",
        "print(\"The Outliers present in sp_Lower_Outliers and sp_Upper_outliers are: {} and {}\".format(calo, cauo))"
      ],
      "metadata": {
        "id": "pi0SB57Lg0so"
      },
      "id": "pi0SB57Lg0so",
      "execution_count": null,
      "outputs": []
    },
    {
      "cell_type": "markdown",
      "source": [
        "Checking for Fine Aggregate\t"
      ],
      "metadata": {
        "id": "OfomOC-Zing5"
      },
      "id": "OfomOC-Zing5"
    },
    {
      "cell_type": "code",
      "source": [
        "\n",
        "# Getting Inter Quartile Range\n",
        "fa_Q1 = df['Fine Aggregate'].quantile(q=0.25)\n",
        "fa_Q3 = df['Fine Aggregate'].quantile(q=0.75)\n",
        "\n",
        "print('1st Quartile (fa_Q1) is: ', fa_Q1 )\n",
        "print('3rd Quartile (fa_Q3) is: ', fa_Q3)\n",
        "\n",
        "# Printing Inter Quartile Range\n",
        "print(\"InterQuartile range (IQR) is: \", stats.iqr(df['Fine Aggregate']))"
      ],
      "metadata": {
        "id": "miJ_9iW_inyt"
      },
      "id": "miJ_9iW_inyt",
      "execution_count": null,
      "outputs": []
    },
    {
      "cell_type": "code",
      "source": [
        "# Checking For Lower and Upeer Quartiles\n",
        "fa_Lower_Outliers = fa_Q1 - 1.5 * (fa_Q3 - fa_Q1)\n",
        "fa_Upper_outliers = fa_Q3 + 1.5 * (fa_Q3 - fa_Q1)\n",
        "\n",
        "print('Lower Outliers limit in Fine Aggregate: ', fa_Lower_Outliers)\n",
        "print(\"Upper Outliers Limit in Fine Aggregate: \", fa_Upper_outliers)"
      ],
      "metadata": {
        "id": "MvND39Vxin26"
      },
      "id": "MvND39Vxin26",
      "execution_count": null,
      "outputs": []
    },
    {
      "cell_type": "code",
      "source": [
        "# Checking for if any Number of outliers are present ..\n",
        "\n",
        "fauo = df[df['Fine Aggregate']>fa_Upper_outliers]['Fine Aggregate'].count()\n",
        "falo =  df[df['Fine Aggregate']<fa_Lower_Outliers]['Fine Aggregate'].count()\n",
        "\n",
        "print(\"The Outliers present in sp_Lower_Outliers and sp_Upper_outliers are: {} and {}\".format(falo, fauo))"
      ],
      "metadata": {
        "id": "b-5BAp8fin7V"
      },
      "id": "b-5BAp8fin7V",
      "execution_count": null,
      "outputs": []
    },
    {
      "cell_type": "markdown",
      "source": [
        "Checking for Age"
      ],
      "metadata": {
        "id": "pWUTN3MpluvQ"
      },
      "id": "pWUTN3MpluvQ"
    },
    {
      "cell_type": "code",
      "source": [
        "\n",
        "# Getting Inter Quartile Range\n",
        "age_Q1 = df['Age'].quantile(q=0.25)\n",
        "age_Q3 = df['Age'].quantile(q=0.75)\n",
        "\n",
        "print('1st Quartile (age_Q1) is: ', age_Q1 )\n",
        "print('3rd Quartile (age_Q3) is: ', age_Q3)\n",
        "\n",
        "# Printing Inter Quartile Range\n",
        "print(\"InterQuartile range (IQR) is: \", stats.iqr(df['Age']))"
      ],
      "metadata": {
        "id": "InHjB0cAl1Nu"
      },
      "id": "InHjB0cAl1Nu",
      "execution_count": null,
      "outputs": []
    },
    {
      "cell_type": "code",
      "source": [
        "# Checking For Lower and Upeer Quartiles\n",
        "age_Lower_Outliers = age_Q1 - 1.5 * (age_Q3 - age_Q1)\n",
        "age_Upper_outliers = age_Q3 + 1.5 * (age_Q3 - age_Q1)\n",
        "\n",
        "print('Lower Outliers limit in age: ', age_Lower_Outliers)\n",
        "print(\"Upper Outliers Limit in age: \", age_Upper_outliers)"
      ],
      "metadata": {
        "id": "1PEp5a_ol1QU"
      },
      "id": "1PEp5a_ol1QU",
      "execution_count": null,
      "outputs": []
    },
    {
      "cell_type": "code",
      "source": [
        "# Checking for if any Number of outliers are present ..\n",
        "\n",
        "ageuo = df[df['Age']>age_Upper_outliers]['Age'].count()\n",
        "agelo =  df[df['Age']<age_Lower_Outliers]['Age'].count()\n",
        "\n",
        "print(\"The Outliers present in sp_Lower_Outliers and sp_Upper_outliers are: {} and {}\".format(agelo, ageuo))"
      ],
      "metadata": {
        "id": "23dn6TEel1WT"
      },
      "id": "23dn6TEel1WT",
      "execution_count": null,
      "outputs": []
    },
    {
      "cell_type": "markdown",
      "source": [
        "\n",
        "\n",
        "\n",
        "\n",
        "### ***printing all number of Lower and Upper Outliers***"
      ],
      "metadata": {
        "id": "eUZoY7SWo-6y"
      },
      "id": "eUZoY7SWo-6y"
    },
    {
      "cell_type": "code",
      "source": [
        " print(\"\"\" \n",
        "          The Number of Outliers for each feature\n",
        "\n",
        "          Cement           : Lower = {} , Upper = {},\n",
        "          Slag             : Lower = {} , Upper = {},\n",
        "          Ash              : Lower = {} , Upper = {},\n",
        "          Water            : Lower = {} , Upper = {},\n",
        "          SuperPlastic     : Lower = {} , Upper = {},\n",
        "          Coarse Aggregate : Lower = {} , Upper = {},\n",
        "          Fine Aggregate   : Lower = {} , Upper = {},\n",
        "          Age              : Lower = {} , Upper = {}\n",
        "          \n",
        " \n",
        " \"\"\".format(clo,cuo,slo,suo,alo,auo,wlo,wuo,splo,spuo,calo,cauo,falo,fauo,agelo,ageuo))"
      ],
      "metadata": {
        "id": "Q4-b3dqPpI1U"
      },
      "id": "Q4-b3dqPpI1U",
      "execution_count": null,
      "outputs": []
    },
    {
      "cell_type": "markdown",
      "source": [
        "## Final Review of data\n"
      ],
      "metadata": {
        "id": "Ic42WEaCvVQR"
      },
      "id": "Ic42WEaCvVQR"
    },
    {
      "cell_type": "code",
      "source": [
        "for i in list(df.columns):\n",
        "  print(\"\\n\\n----------------\",i,\"----------------\\n\\n\")\n",
        "  print('Null values in',i,\":\",df[i].isnull().any())\n",
        "  print('Range of values',i,\":\", df[i].max()-df[i].min())\n",
        "  print('Min age of',i,\":\",df[i].min())\n",
        "  print('Maxage of',i,\":\",df[i].max())\n",
        "  print('Mean value of',i,\":\", df[i].mean())\n",
        "  print('Median value of',i,\":\",df[i].median())\n",
        "  print('Std deviation of',i,\":\", df[i].std())\n",
        "  Q1=df[i].quantile(q=0.25)\n",
        "  Q3=df[i].quantile(q=0.75)\n",
        "  print('Q1 of',i,\":\", Q1)\n",
        "  print('Q3 of',i,\":\", Q3)\n",
        "  print('Interquartile range (IQR) is ', stats.iqr(df[i]))\n",
        "  L_outliers=Q1-1.5*(Q3-Q1)\n",
        "  U_outliers=Q3+1.5*(Q3-Q1)\n",
        "  print('Lower outliers in ',i,\":\" , L_outliers)\n",
        "  print('Upper outliers in ',i,\":\" , U_outliers)\n",
        "  print('No. of outliers in Upper ',\":\", df[df[i]>586.4375][i].count())\n",
        "  print('No. of outliers in Lower ',\":\", df[df[i]<-44.0625][i].count())\n",
        "  print('% of Outliers in Upper',\":\",round(df[df[i]>586.4375][i].count()*100/len(df)), '%')\n",
        "  print('% of Outliers in Lower',\":\",round(df[df[i]<-44.0625][i].count()*100/len(df)), '%')"
      ],
      "metadata": {
        "id": "XNCQR-pTvd3_"
      },
      "id": "XNCQR-pTvd3_",
      "execution_count": null,
      "outputs": []
    },
    {
      "cell_type": "markdown",
      "source": [
        "### **EDA**"
      ],
      "metadata": {
        "id": "bWt-LakmpwRL"
      },
      "id": "bWt-LakmpwRL"
    },
    {
      "cell_type": "markdown",
      "source": [
        "## **Univarient Analysis**"
      ],
      "metadata": {
        "id": "iSPOgiBHp1GC"
      },
      "id": "iSPOgiBHp1GC"
    },
    {
      "cell_type": "markdown",
      "id": "b0e41462",
      "metadata": {
        "id": "b0e41462"
      },
      "source": [
        "### Running for Loop for Box Plotting all Features at a time "
      ]
    },
    {
      "cell_type": "code",
      "source": [
        "\n",
        "# Running  a box plot\n",
        "\n",
        "i= 1\n",
        "plt.figure(figsize = (15,20))\n",
        "for ii in df.columns:\n",
        "    plt.subplot(4,3,i)\n",
        "    sns.boxplot(x = df[ii], data = df, palette=\"Set3\")\n",
        "    i+=1\n",
        "  "
      ],
      "metadata": {
        "id": "TVm763SI_j2A"
      },
      "id": "TVm763SI_j2A",
      "execution_count": null,
      "outputs": []
    },
    {
      "cell_type": "markdown",
      "source": [
        "### Running for Loop for Dist Plotting all Features at a time \n"
      ],
      "metadata": {
        "id": "8teqyfUYqIrK"
      },
      "id": "8teqyfUYqIrK"
    },
    {
      "cell_type": "code",
      "source": [
        "i = 1\n",
        "plt.figure(figsize=(21,10))\n",
        "for ii in df.columns:\n",
        "    plt.subplot(4,3,i)\n",
        "    sns.distplot(df[ii])\n",
        "    i = i + 1\n",
        "    plt.show()\n"
      ],
      "metadata": {
        "id": "h323tJTUricb"
      },
      "id": "h323tJTUricb",
      "execution_count": null,
      "outputs": []
    },
    {
      "cell_type": "markdown",
      "source": [
        "### Histogram for all Features"
      ],
      "metadata": {
        "id": "0vX7IxvypsIw"
      },
      "id": "0vX7IxvypsIw"
    },
    {
      "cell_type": "code",
      "source": [
        "# Histograms\n",
        "df.hist(['Cement','Slag', 'Ash', 'Water', 'SuperPlastic', 'Coarse Aggregate','Fine Aggregate' ,'Age', 'strength'], figsize=(21,10))"
      ],
      "metadata": {
        "id": "IGfTQBxpmRsD"
      },
      "id": "IGfTQBxpmRsD",
      "execution_count": null,
      "outputs": []
    },
    {
      "cell_type": "markdown",
      "source": [
        "### Box plotting for all Features"
      ],
      "metadata": {
        "id": "W7GvSfUM58Dd"
      },
      "id": "W7GvSfUM58Dd"
    },
    {
      "cell_type": "code",
      "source": [
        "df.boxplot(figsize = (22,10))"
      ],
      "metadata": {
        "id": "ng88mj3z5-Wx"
      },
      "id": "ng88mj3z5-Wx",
      "execution_count": null,
      "outputs": []
    },
    {
      "cell_type": "markdown",
      "source": [
        "# Bi - Varient Analysis"
      ],
      "metadata": {
        "id": "cpO3VAwak2cC"
      },
      "id": "cpO3VAwak2cC"
    },
    {
      "cell_type": "markdown",
      "source": [
        "#### Plotting scatter plot with all independent variables to dependent varible\n",
        "\n",
        "### Scatter plotting cement to strength "
      ],
      "metadata": {
        "id": "nCk-h6e2qH4P"
      },
      "id": "nCk-h6e2qH4P"
    },
    {
      "cell_type": "code",
      "source": [
        "# scattering plot with strength all features \n",
        "# Method 1\n",
        "for i in df.columns[:-1]:\n",
        "    plt.scatter(x=df[i], y = df['strength'])\n",
        "    plt.show()\n",
        "    \n"
      ],
      "metadata": {
        "id": "Lio8Btt9qdr-"
      },
      "id": "Lio8Btt9qdr-",
      "execution_count": null,
      "outputs": []
    },
    {
      "cell_type": "code",
      "source": [
        "# Method 2\n",
        "\n",
        "plt.figure(figsize = (20, 20))\n",
        "plotnumber = 1\n",
        "\n",
        "for col in df.columns:\n",
        "    if plotnumber <= 8:\n",
        "        ax = plt.subplot(3, 3, plotnumber)\n",
        "        sns.scatterplot(df[col], y = df['strength'])\n",
        "        plt.xlabel(col, fontsize = 15)\n",
        "        \n",
        "    plotnumber += 1\n",
        "    \n",
        "plt.tight_layout()\n",
        "plt.show()\n",
        "\n"
      ],
      "metadata": {
        "id": "MeSnNZ95WvMr"
      },
      "id": "MeSnNZ95WvMr",
      "execution_count": null,
      "outputs": []
    },
    {
      "cell_type": "markdown",
      "id": "67a0fede",
      "metadata": {
        "id": "67a0fede"
      },
      "source": [
        "###  Pair Plotting the dataframe"
      ]
    },
    {
      "cell_type": "code",
      "execution_count": null,
      "id": "bad7c9fa",
      "metadata": {
        "id": "bad7c9fa"
      },
      "outputs": [],
      "source": [
        "sns.pairplot(df)"
      ]
    },
    {
      "cell_type": "markdown",
      "source": [
        "### Heat Map"
      ],
      "metadata": {
        "id": "VeBDUt7eyi_G"
      },
      "id": "VeBDUt7eyi_G"
    },
    {
      "cell_type": "code",
      "source": [
        "plt.figure(figsize=(22,10))\n",
        "sns.heatmap(df.corr(),annot = True, cmap = 'viridis')\n"
      ],
      "metadata": {
        "id": "0t0H44EvymBl"
      },
      "id": "0t0H44EvymBl",
      "execution_count": null,
      "outputs": []
    },
    {
      "cell_type": "markdown",
      "source": [
        "# Removing Outliers\n"
      ],
      "metadata": {
        "id": "UJKcIV61lTFk"
      },
      "id": "UJKcIV61lTFk"
    },
    {
      "cell_type": "code",
      "source": [
        "# Method 1\n",
        "\n",
        "Q1 = df[df.columns].quantile(0.25)\n",
        "Q3 = df[df.columns].quantile(0.75)\n",
        "IQR = Q3 - Q1\n",
        "print('Here we will get IQR for each column\\n',IQR)\n",
        "\n",
        "df_filtered = df[~((df[df.columns] < (Q1 - 1.5 * IQR)) |(df[df.columns] > (Q3 + 1.5 * IQR))).any(axis=1)]\n",
        "display(df_filtered.shape)\n",
        "\n"
      ],
      "metadata": {
        "id": "GWWOhnp7uUNx"
      },
      "id": "GWWOhnp7uUNx",
      "execution_count": null,
      "outputs": []
    },
    {
      "cell_type": "code",
      "source": [
        "# plotting dist plot to see data after removing some outliers\n",
        "for i in df_filtered.columns:\n",
        "    sns.distplot(df_filtered[i])\n",
        "    plt.show()\n"
      ],
      "metadata": {
        "id": "jIeZKkuul3BN"
      },
      "id": "jIeZKkuul3BN",
      "execution_count": null,
      "outputs": []
    },
    {
      "cell_type": "code",
      "source": [
        "# Box plotting\n",
        "\n",
        "df_filtered.boxplot(figsize = (22,12))"
      ],
      "metadata": {
        "id": "HY-vJE_MprMx"
      },
      "id": "HY-vJE_MprMx",
      "execution_count": null,
      "outputs": []
    },
    {
      "cell_type": "markdown",
      "source": [
        "#### Trying to remove outliers in another method"
      ],
      "metadata": {
        "id": "fa44MklSuOUc"
      },
      "id": "fa44MklSuOUc"
    },
    {
      "cell_type": "code",
      "source": [
        "# method 2\n",
        "df1 = df\n",
        "\n",
        "for col_name in df1.columns[:-1]:\n",
        "    q1 = df1[col_name].quantile(0.25)\n",
        "    q3 = df1[col_name].quantile(0.75)\n",
        "    iqr = q3 - q1\n",
        "    \n",
        "    low = q1-1.5*iqr\n",
        "    high = q3+1.5*iqr\n",
        "    df1.loc[(df1[col_name] < low) | (df1[col_name] > high), col_name] = df1[col_name].median()"
      ],
      "metadata": {
        "id": "ArSC5PEmuUS5"
      },
      "id": "ArSC5PEmuUS5",
      "execution_count": null,
      "outputs": []
    },
    {
      "cell_type": "code",
      "source": [
        "# printing both outlier removing plots to compar e\n",
        "\n",
        "df_filtered.boxplot(figsize = (22,12)) # Method 1\n",
        "\n"
      ],
      "metadata": {
        "id": "ID5FpRaRuzzC"
      },
      "id": "ID5FpRaRuzzC",
      "execution_count": null,
      "outputs": []
    },
    {
      "cell_type": "markdown",
      "source": [
        "# ML"
      ],
      "metadata": {
        "id": "cZYPMfc3qD6r"
      },
      "id": "cZYPMfc3qD6r"
    },
    {
      "cell_type": "markdown",
      "source": [
        "### Data Preprocessing"
      ],
      "metadata": {
        "id": "2CoCslg5wsX2"
      },
      "id": "2CoCslg5wsX2"
    },
    {
      "cell_type": "code",
      "source": [
        "# Dropping Independent Variables\n",
        "x = df.drop(['strength'],axis=1)\n",
        "\n",
        "\n",
        "# Assiging Dependent Variable to a variable\n",
        "y = df[\"strength\"]"
      ],
      "metadata": {
        "id": "XbXSdu8twKU2"
      },
      "id": "XbXSdu8twKU2",
      "execution_count": null,
      "outputs": []
    },
    {
      "cell_type": "code",
      "source": [
        "# Splitting the data for train and test data\n",
        "\n",
        "# librarie for train test split \n",
        "from sklearn.model_selection import train_test_split\n",
        "\n",
        "x_train , x_test, y_train, y_test = train_test_split(x,y ,test_size = 0.3, random_state = 42)\n"
      ],
      "metadata": {
        "id": "FydKZqGCwp12"
      },
      "id": "FydKZqGCwp12",
      "execution_count": null,
      "outputs": []
    },
    {
      "cell_type": "code",
      "source": [
        "# Feature scaling\n",
        "\n",
        "# Library\n",
        "from sklearn.preprocessing import StandardScaler\n",
        "\n",
        "s = StandardScaler()\n",
        "fit = s.fit(x_train)\n",
        "\n",
        "xtrain_scl = fit.transform(x_train)\n",
        "xtest_scl = fit.transform(x_test)"
      ],
      "metadata": {
        "id": "0uL-VLaMxlEL"
      },
      "id": "0uL-VLaMxlEL",
      "execution_count": null,
      "outputs": []
    },
    {
      "cell_type": "markdown",
      "source": [
        "## Linear Regression"
      ],
      "metadata": {
        "id": "7wQQ6EN0hiwd"
      },
      "id": "7wQQ6EN0hiwd"
    },
    {
      "cell_type": "code",
      "source": [
        "# Librabry\n",
        "from sklearn.linear_model import LinearRegression\n",
        "from sklearn.metrics import mean_squared_error\n",
        "\n",
        "lr = LinearRegression()\n",
        "\n",
        "fit =lr.fit(xtrain_scl, y_train)\n",
        "\n",
        "score = lr.score(xtest_scl, y_test)\n",
        "print(\"Predicted score is: {}\".format(score))"
      ],
      "metadata": {
        "id": "HqAQKm5K0k-t"
      },
      "id": "HqAQKm5K0k-t",
      "execution_count": null,
      "outputs": []
    },
    {
      "cell_type": "markdown",
      "source": [
        "### Lasso Regression\n"
      ],
      "metadata": {
        "id": "gWnGGCDr6WoS"
      },
      "id": "gWnGGCDr6WoS"
    },
    {
      "cell_type": "code",
      "source": [
        "# Library\n",
        "\n",
        "from sklearn.linear_model import Ridge, Lasso\n",
        "\n",
        "\n",
        "ls = Lasso(alpha = 0.3)\n",
        "\n",
        "it_ls = ls.fit(xtrain_scl, y_train)\n",
        "\n",
        "\n",
        "print(\"Predicted score is: {}\".format(ls.score(xtest_scl, y_test)))"
      ],
      "metadata": {
        "id": "qWnaQ9kK6bXt"
      },
      "id": "qWnaQ9kK6bXt",
      "execution_count": null,
      "outputs": []
    },
    {
      "cell_type": "markdown",
      "source": [
        "### Rigid Regression"
      ],
      "metadata": {
        "id": "T_yGiyhj35YV"
      },
      "id": "T_yGiyhj35YV"
    },
    {
      "cell_type": "code",
      "source": [
        "rd = Ridge(alpha= 0.4)\n",
        "\n",
        "fit_rd = rd.fit(xtrain_scl, y_train)\n",
        "\n",
        "\n",
        "print(\"Predicted score is: {}\".format(rd.score(xtest_scl, y_test)))\n",
        "\n",
        "\n"
      ],
      "metadata": {
        "id": "tZeRTvsa37xr"
      },
      "id": "tZeRTvsa37xr",
      "execution_count": null,
      "outputs": []
    },
    {
      "cell_type": "markdown",
      "source": [
        "### Decision Trees"
      ],
      "metadata": {
        "id": "_ZiXLUBl0FQO"
      },
      "id": "_ZiXLUBl0FQO"
    },
    {
      "cell_type": "code",
      "source": [
        "# Library\n",
        "from sklearn.tree import DecisionTreeRegressor\n",
        "\n",
        "dt = DecisionTreeRegressor()\n",
        "fitt = dt.fit(xtrain_scl, y_train)\n",
        "\n",
        "print(\"Predicted score is: {}\".format(dt.score(xtest_scl, y_test)))\n",
        "\n"
      ],
      "metadata": {
        "id": "iHse4p5m0Mgl"
      },
      "id": "iHse4p5m0Mgl",
      "execution_count": null,
      "outputs": []
    },
    {
      "cell_type": "markdown",
      "source": [
        "### Random Forest regression\n"
      ],
      "metadata": {
        "id": "4x-glhFSqq8g"
      },
      "id": "4x-glhFSqq8g"
    },
    {
      "cell_type": "code",
      "source": [
        "# Library\n",
        "\n",
        "from sklearn.ensemble import RandomForestRegressor\n",
        "from sklearn.metrics import mean_squared_error\n",
        "\n",
        "rand = RandomForestRegressor()\n",
        "\n",
        "fitting = rand.fit(xtrain_scl , y_train)\n",
        "\n",
        "#printing the model score\n",
        "\n",
        "print(\"Predicted score is: {}\".format(rand.score(xtest_scl, y_test)))"
      ],
      "metadata": {
        "id": "4mMRBZRsqyK6"
      },
      "id": "4mMRBZRsqyK6",
      "execution_count": null,
      "outputs": []
    },
    {
      "cell_type": "markdown",
      "source": [
        "### KNN"
      ],
      "metadata": {
        "id": "-aPYkxBq7f9Y"
      },
      "id": "-aPYkxBq7f9Y"
    },
    {
      "cell_type": "code",
      "source": [
        "# Library\n",
        "\n",
        "from sklearn.neighbors import KNeighborsRegressor\n",
        "\n",
        "reg = KNeighborsRegressor()\n",
        "\n",
        "knn = reg.fit(xtrain_scl, y_train)\n",
        "\n",
        "\n",
        "print(\"Predicted score is: {}\".format(reg.score(xtest_scl, y_test)))"
      ],
      "metadata": {
        "id": "HgVmu-uP7fTM"
      },
      "id": "HgVmu-uP7fTM",
      "execution_count": null,
      "outputs": []
    },
    {
      "cell_type": "markdown",
      "source": [
        "### SVM Regressor"
      ],
      "metadata": {
        "id": "IHr82Fce8VV9"
      },
      "id": "IHr82Fce8VV9"
    },
    {
      "cell_type": "code",
      "source": [
        "# Library\n",
        "\n",
        "from sklearn.svm import SVR\n"
      ],
      "metadata": {
        "id": "E_6e7FOH8haF"
      },
      "id": "E_6e7FOH8haF",
      "execution_count": null,
      "outputs": []
    },
    {
      "cell_type": "markdown",
      "source": [
        "# Lazy Predict"
      ],
      "metadata": {
        "id": "yOSkxHKwe7O8"
      },
      "id": "yOSkxHKwe7O8"
    },
    {
      "cell_type": "code",
      "source": [
        "# from lazypredict.Supervised import LazyRegressor\n",
        "# reg = LazyRegressor(ignore_warnings=False, custom_metric=None)\n",
        "# models, predictions = reg.fit(x_train, x_test, y_train, y_test)\n",
        "# models"
      ],
      "metadata": {
        "id": "eo6uNEt8e9uf"
      },
      "id": "eo6uNEt8e9uf",
      "execution_count": null,
      "outputs": []
    }
  ],
  "metadata": {
    "kernelspec": {
      "display_name": "Python 3 (ipykernel)",
      "language": "python",
      "name": "python3"
    },
    "language_info": {
      "codemirror_mode": {
        "name": "ipython",
        "version": 3
      },
      "file_extension": ".py",
      "mimetype": "text/x-python",
      "name": "python",
      "nbconvert_exporter": "python",
      "pygments_lexer": "ipython3",
      "version": "3.9.7"
    },
    "colab": {
      "name": "Concrete_Strenght__.ipynb",
      "provenance": [],
      "collapsed_sections": []
    }
  },
  "nbformat": 4,
  "nbformat_minor": 5
}